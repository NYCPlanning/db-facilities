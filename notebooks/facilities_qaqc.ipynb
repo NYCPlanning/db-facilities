{
 "cells": [
  {
   "cell_type": "code",
   "execution_count": 1,
   "metadata": {},
   "outputs": [],
   "source": [
    "import pandas as pd\n",
    "import numpy as np\n",
    "import matplotlib.pyplot as plt\n",
    "plt.style.use('ggplot')"
   ]
  },
  {
   "cell_type": "markdown",
   "metadata": {},
   "source": [
    "### FacDB QAQC report\n",
    "which includes a series of graphs reporting:\n",
    "1. Subset of FacDB records that don't have a geometry with GRC code\n",
    "2. Percent geocoded / with geometry by data source \n",
    "3. Percent geocoded / with geometry by fac type / subgroup / group / domain\n",
    "4. Change in distribution of number of records by fac type / subgroup / group / domain between current and previous (live) version\n",
    "\n",
    "The Below reports do not include records that we know are outside of NYC, and duplicates are also removed."
   ]
  },
  {
   "cell_type": "code",
   "execution_count": 2,
   "metadata": {},
   "outputs": [],
   "source": [
    "# import the qc reports\n",
    "geo_rejects = pd.read_csv('https://raw.githubusercontent.com/NYCPlanning/db-facilities-tmp/dev/output/geo_rejects.csv')\n",
    "qc_diff = pd.read_csv('https://raw.githubusercontent.com/NYCPlanning/db-facilities-tmp/dev/output/qc_diff.csv')\n",
    "facdb = pd.read_csv('https://raw.githubusercontent.com/NYCPlanning/db-facilities-tmp/dev/output/facilities.csv')\n",
    "facdb_old = pd.read_csv('https://www1.nyc.gov/assets/planning/download/zip/data-maps/open-data/facilities_csv_201901.zip')"
   ]
  },
  {
   "cell_type": "code",
   "execution_count": 3,
   "metadata": {},
   "outputs": [
    {
     "ename": "NameError",
     "evalue": "name 'total_count' is not defined",
     "output_type": "error",
     "traceback": [
      "\u001b[0;31m---------------------------------------------------------------------------\u001b[0m",
      "\u001b[0;31mNameError\u001b[0m                                 Traceback (most recent call last)",
      "\u001b[0;32m<ipython-input-3-68b4344d80d7>\u001b[0m in \u001b[0;36m<module>\u001b[0;34m\u001b[0m\n\u001b[1;32m      1\u001b[0m \u001b[0mtotal_counts\u001b[0m \u001b[0;34m=\u001b[0m \u001b[0mlen\u001b[0m\u001b[0;34m(\u001b[0m\u001b[0mfacdb\u001b[0m\u001b[0;34m)\u001b[0m\u001b[0;34m\u001b[0m\u001b[0;34m\u001b[0m\u001b[0m\n\u001b[1;32m      2\u001b[0m \u001b[0mno_geom\u001b[0m \u001b[0;34m=\u001b[0m \u001b[0mlen\u001b[0m\u001b[0;34m(\u001b[0m\u001b[0mgeo_rejects\u001b[0m\u001b[0;34m)\u001b[0m\u001b[0;34m\u001b[0m\u001b[0;34m\u001b[0m\u001b[0m\n\u001b[0;32m----> 3\u001b[0;31m \u001b[0mgeom\u001b[0m \u001b[0;34m=\u001b[0m \u001b[0mtotal_count\u001b[0m \u001b[0;34m-\u001b[0m \u001b[0mnon_geom\u001b[0m\u001b[0;34m\u001b[0m\u001b[0;34m\u001b[0m\u001b[0m\n\u001b[0m\u001b[1;32m      4\u001b[0m \u001b[0mgeom_pct\u001b[0m \u001b[0;34m=\u001b[0m \u001b[0mgeom\u001b[0m\u001b[0;34m/\u001b[0m\u001b[0mtotal_counts\u001b[0m\u001b[0;34m*\u001b[0m\u001b[0;36m100\u001b[0m\u001b[0;34m\u001b[0m\u001b[0;34m\u001b[0m\u001b[0m\n\u001b[1;32m      5\u001b[0m \u001b[0;31m# 32987 out of 34206 records or 96% have a geometry\u001b[0m\u001b[0;34m\u001b[0m\u001b[0;34m\u001b[0m\u001b[0;34m\u001b[0m\u001b[0m\n",
      "\u001b[0;31mNameError\u001b[0m: name 'total_count' is not defined"
     ]
    }
   ],
   "source": [
    "total_counts = len(facdb)\n",
    "no_geom = len(geo_rejects)\n",
    "geom = total_count - non_geom\n",
    "geom_pct = geom/total_counts*100\n",
    "# 32987 out of 34206 records or 96% have a geometry\n",
    "print(\"There are {} facilities not having geometries.\\n{} out of {} records or {:.2f}% have a geometry.\"\n",
    "                                                        .format(non_geom, geom, total_counts, geom_pct))"
   ]
  },
  {
   "cell_type": "markdown",
   "metadata": {},
   "source": [
    "#### 1.Subset of FacDB records that don't have a geometry with GRC code (Click [here](https://github.com/NYCPlanning/db-facilities-tmp/blob/dev/output/geo_rejects.csv) to see the full table)"
   ]
  },
  {
   "cell_type": "code",
   "execution_count": null,
   "metadata": {},
   "outputs": [],
   "source": [
    "geo_rejects.fillna('', inplace=True)\n",
    "\n",
    "geo_rejects['message'] = geo_rejects.message.apply(lambda x : 'NO MESSAGE' if x == '' else x)\n",
    "geo_rejects['message'] = geo_rejects.message.apply(lambda x : 'ADDRESS NOT RECOGNIZED' if ('NOT RECOGNIZED' in x) else x)\n",
    "geo_rejects['message'] = geo_rejects.message.apply(lambda x : 'ADDRESS CONTAINS INVALID CHARACTER' if ('INVALID CHARACTER' in x) else x)\n",
    "geo_rejects['message'] = geo_rejects.message.apply(lambda x : 'ADDRESS CONTAINS UNKNOWN OR INVALID SUFFIX/ENDING' if ('INVALID SUFFIX' in x) else x)"
   ]
  },
  {
   "cell_type": "code",
   "execution_count": null,
   "metadata": {},
   "outputs": [],
   "source": [
    "plt.rc('xtick', labelsize=20) \n",
    "plt.rc('ytick', labelsize=20)\n",
    "plt.rc('axes', titlesize=25)\n",
    "plt.rc('axes', labelsize=20)\n",
    "\n",
    "geo_rejects.groupby('message').count()['uid']\\\n",
    "                                .sort_values(ascending=True)\\\n",
    "                                .plot(kind='barh', figsize=(16,10), title = 'GeoSupport Error Message of Ungeocoded Facilities')"
   ]
  },
  {
   "cell_type": "markdown",
   "metadata": {},
   "source": [
    "#### 2. Percent geocoded / with geometry by data source (Click [here](https://github.com/NYCPlanning/db-facilities-tmp/blob/dev/output/qc_mapped_datasource.csv) to see the full table)"
   ]
  },
  {
   "cell_type": "code",
   "execution_count": null,
   "metadata": {},
   "outputs": [],
   "source": [
    "granularity = 'datasource'\n",
    "nongeom_counts = facdb[facdb.geom.isna()][granularity].nunique()\n",
    "\n",
    "plt.rc('xtick', labelsize=15)\n",
    "plt.rc('ytick', labelsize=15)\n",
    "plt.rc('axes', titlesize=20)\n",
    "plt.rc('axes', labelsize=20)\n",
    "\n",
    "plt.subplots_adjust(wspace=0.8)\n",
    "plt.subplot(1, 2, 1)\n",
    "facdb[facdb.geom.isna()].groupby(granularity).count()['uid']\\\n",
    "                                .sort_values(ascending=False)\\\n",
    "                                .head(nongeom_counts)[::-1]\\\n",
    "                                .plot(kind='barh', figsize=(16,10), title = 'Number of facilities without geoms by {} \\n (only show {} w/o geom)'\n",
    "                                                                                                                      .format(granularity, granularity))\n",
    "plt.subplot(1, 2, 2)\n",
    "((facdb[facdb.geom.isna()].groupby(granularity).count()['uid']/facdb.groupby(granularity).count()['uid'])*100)\\\n",
    "                                  .sort_values(ascending=False)\\\n",
    "                                  .head(nongeom_counts)[::-1]\\\n",
    "                                  .plot(kind='barh', figsize=(16,10), title = '% Number of facilities without geoms by {} \\n (only show {} w/o geom)'\n",
    "                                                                                                                      .format(granularity, granularity))"
   ]
  },
  {
   "cell_type": "markdown",
   "metadata": {},
   "source": [
    "#### 3. Percent geocoded / with geometry by fac subgroup / group / domain -- Non geoms (Click [here](https://github.com/NYCPlanning/db-facilities-tmp/blob/dev/output/qc_mapped_subgroup.csv) to see the full table)"
   ]
  },
  {
   "cell_type": "code",
   "execution_count": null,
   "metadata": {},
   "outputs": [],
   "source": [
    "granularity = 'facsubgrp'\n",
    "nongeom_counts = facdb[facdb.geom.isna()][granularity].nunique()\n",
    "\n",
    "plt.rc('xtick', labelsize=12)\n",
    "plt.rc('ytick', labelsize=12)\n",
    "plt.rc('axes', titlesize=20)\n",
    "plt.rc('axes', labelsize=12)\n",
    "\n",
    "plt.subplots_adjust(wspace=0.8)\n",
    "plt.subplot(1, 2, 1)\n",
    "facdb[facdb.geom.isna()].groupby(granularity).count()['uid']\\\n",
    "                                .sort_values(ascending=False)\\\n",
    "                                .head(nongeom_counts)[::-1]\\\n",
    "                                .plot(kind='barh', figsize=(16,10), title = 'Number of facilities without geoms by {} \\n (only show {} w/o geom)'\n",
    "                                                                                                                      .format(granularity, granularity))\n",
    "plt.subplot(1, 2, 2)\n",
    "((facdb[facdb.geom.isna()].groupby(granularity).count()['uid']/facdb.groupby(granularity).count()['uid'])*100)\\\n",
    "                                  .sort_values(ascending=False)\\\n",
    "                                  .head(nongeom_counts)[::-1]\\\n",
    "                                  .plot(kind='barh', figsize=(16,10), title = '% Number of facilities without geoms by {} \\n (only show {} w/o geom)'\n",
    "                                                                                                                      .format(granularity, granularity))"
   ]
  },
  {
   "cell_type": "code",
   "execution_count": null,
   "metadata": {},
   "outputs": [],
   "source": [
    "granularity = 'facgroup'\n",
    "nongeom_counts = facdb[facdb.geom.isna()][granularity].nunique()\n",
    "\n",
    "plt.rc('xtick', labelsize=15)\n",
    "plt.rc('ytick', labelsize=15)\n",
    "plt.rc('axes', titlesize=20)\n",
    "plt.rc('axes', labelsize=15)\n",
    "\n",
    "plt.subplots_adjust(wspace=0.8)\n",
    "plt.subplot(1, 2, 1)\n",
    "facdb[facdb.geom.isna()].groupby(granularity).count()['uid']\\\n",
    "                                .sort_values(ascending=False)\\\n",
    "                                .head(nongeom_counts)[::-1]\\\n",
    "                                .plot(kind='barh', figsize=(16,10), title = 'Number of facilities without geoms by {} \\n (only show {} w/o geom)'\n",
    "                                                                                                                      .format(granularity, granularity))\n",
    "plt.subplot(1, 2, 2)\n",
    "((facdb[facdb.geom.isna()].groupby(granularity).count()['uid']/facdb.groupby(granularity).count()['uid'])*100)\\\n",
    "                                  .sort_values(ascending=False)\\\n",
    "                                  .head(nongeom_counts)[::-1]\\\n",
    "                                  .plot(kind='barh', figsize=(16,10), title = '% Number of facilities without geoms by {} \\n (only show {} w/o geom)'\n",
    "                                                                                                                      .format(granularity, granularity))"
   ]
  },
  {
   "cell_type": "code",
   "execution_count": null,
   "metadata": {},
   "outputs": [],
   "source": [
    "granularity = 'facdomain'\n",
    "nongeom_counts = facdb[facdb.geom.isna()][granularity].nunique()\n",
    "\n",
    "plt.rc('xtick', labelsize=15)\n",
    "plt.rc('ytick', labelsize=15)\n",
    "plt.rc('axes', titlesize=20)\n",
    "plt.rc('axes', labelsize=18)\n",
    "\n",
    "plt.subplots_adjust(wspace=1.2)\n",
    "plt.subplot(1, 2, 1)\n",
    "facdb[facdb.geom.isna()].groupby(granularity).count()['uid']\\\n",
    "                                .sort_values(ascending=False)\\\n",
    "                                .head(nongeom_counts)[::-1]\\\n",
    "                                .plot(kind='barh', figsize=(16,8), title = 'Number of facilities without geoms by {} \\n (only show {} w/o geom)'\n",
    "                                                                                                                      .format(granularity, granularity))\n",
    "plt.subplot(1, 2, 2)\n",
    "((facdb[facdb.geom.isna()].groupby(granularity).count()['uid']/facdb.groupby(granularity).count()['uid'])*100)\\\n",
    "                                  .sort_values(ascending=False)\\\n",
    "                                  .head(nongeom_counts)[::-1]\\\n",
    "                                  .plot(kind='barh', figsize=(16,10), title = '% Number of facilities without geoms by {} \\n (only show {} w/o geom)'\n",
    "                                                                                                                      .format(granularity, granularity))"
   ]
  },
  {
   "cell_type": "markdown",
   "metadata": {},
   "source": [
    "#### 4.1 Change in distribution of number of records by fac type / subgroup / group / domain between current and previous (live) version (Click [here](https://github.com/NYCPlanning/db-facilities-tmp/blob/dev/output/qc_diff.csv) to see the full table)"
   ]
  },
  {
   "cell_type": "code",
   "execution_count": null,
   "metadata": {},
   "outputs": [],
   "source": [
    "granularity = 'factype'\n",
    "threshold = 10\n",
    "\n",
    "plt.rc('xtick', labelsize=12)\n",
    "plt.rc('ytick', labelsize=12)\n",
    "plt.rc('axes', titlesize=18)\n",
    "plt.rc('axes', labelsize=15)\n",
    "\n",
    "qc_diff[(~qc_diff['diff'].isna())&(abs(qc_diff['diff'])>threshold)]\\\n",
    "                                .sort_values(by='diff',ascending=True)\\\n",
    "                                .plot(x=granularity, y='diff', kind='barh', figsize=(8,20), \n",
    "                                        title = 'Change in number of records by {} \\n (only show # of changes > {})'\n",
    "                                                                                      .format(granularity, threshold))"
   ]
  },
  {
   "cell_type": "code",
   "execution_count": null,
   "metadata": {},
   "outputs": [],
   "source": [
    "sensitive_factype = ['FIREHOUSE', 'POLICE STATION']\n",
    "granularity = 'factype'\n",
    "threshold = 10\n",
    "\n",
    "plt.rc('xtick', labelsize=15)\n",
    "plt.rc('ytick', labelsize=15)\n",
    "plt.rc('axes', titlesize=20)\n",
    "plt.rc('axes', labelsize=15)\n",
    "\n",
    "qc_diff[qc_diff.factype.isin(sensitive_factype)]\\\n",
    "                                .sort_values(by='diff',ascending=True)\\\n",
    "                                .plot(x=granularity, y='diff', kind='barh', figsize=(5,5), \n",
    "                                        title = 'Change in number of records in sensitive {}s'.format(granularity))"
   ]
  },
  {
   "cell_type": "code",
   "execution_count": null,
   "metadata": {},
   "outputs": [],
   "source": [
    "granularity = 'facsubgrp'\n",
    "threshold = 5\n",
    "\n",
    "plt.rc('xtick', labelsize=12)\n",
    "plt.rc('ytick', labelsize=12)\n",
    "plt.rc('axes', titlesize=18)\n",
    "plt.rc('axes', labelsize=15)\n",
    "\n",
    "subset = qc_diff[~qc_diff['diff'].isna()].groupby(granularity).sum()\n",
    "subset[abs(subset['diff'])>threshold]\\\n",
    "                                .groupby(granularity).sum()['diff']\\\n",
    "                                .sort_values(ascending=True)\\\n",
    "                                .plot(x=granularity, y='diff', kind='barh', figsize=(8,10), \n",
    "                                        title = 'Change in number of records by {} \\n (only show # of changes > {})'\n",
    "                                                                                      .format(granularity, threshold))"
   ]
  },
  {
   "cell_type": "code",
   "execution_count": null,
   "metadata": {},
   "outputs": [],
   "source": [
    "granularity = 'facdomain'\n",
    "threshold = 0\n",
    "\n",
    "plt.rc('xtick', labelsize=15)\n",
    "plt.rc('ytick', labelsize=15)\n",
    "plt.rc('axes', titlesize=20)\n",
    "plt.rc('axes', labelsize=15)\n",
    "\n",
    "subset = qc_diff[~qc_diff['diff'].isna()].groupby(granularity).sum()\n",
    "subset[abs(subset['diff'])>threshold]\\\n",
    "                                .groupby(granularity).sum()['diff']\\\n",
    "                                .sort_values(ascending=True)\\\n",
    "                                .plot(x=granularity, y='diff', kind='barh', figsize=(8,10), \n",
    "                                        title = 'Change in number of records by {}'.format(granularity, threshold))"
   ]
  },
  {
   "cell_type": "markdown",
   "metadata": {},
   "source": [
    "#### 4.2 Number of records in new or non-existing fac type / subgroup / group / domain between current and previous (live) version (Click [here](https://github.com/NYCPlanning/db-facilities-tmp/blob/dev/output/qc_diff.csv) to see the full table)"
   ]
  },
  {
   "cell_type": "code",
   "execution_count": null,
   "metadata": {},
   "outputs": [],
   "source": [
    "granularity = 'factype'\n",
    "threshold = 10\n",
    "\n",
    "plt.rc('xtick', labelsize=12)\n",
    "plt.rc('ytick', labelsize=12)\n",
    "plt.rc('axes', titlesize=18)\n",
    "plt.rc('axes', labelsize=15)\n",
    "\n",
    "qc_diff[(qc_diff['diff'].isna())&(~qc_diff['count_new'].isna())&(qc_diff['count_new']>threshold)]\\\n",
    "                                .sort_values(by='count_new',ascending=True)\\\n",
    "                                .plot(x=granularity, y='count_new', kind='barh', figsize=(8,15), \n",
    "                                        title = '{}s in current version but not in previous version'.format(granularity))"
   ]
  },
  {
   "cell_type": "code",
   "execution_count": null,
   "metadata": {},
   "outputs": [],
   "source": [
    "granularity = 'factype'\n",
    "threshold = 10\n",
    "\n",
    "plt.rc('xtick', labelsize=12)\n",
    "plt.rc('ytick', labelsize=12)\n",
    "plt.rc('axes', titlesize=18)\n",
    "plt.rc('axes', labelsize=15)\n",
    "\n",
    "qc_diff[(qc_diff['diff'].isna())&(~qc_diff['count_old'].isna())&(qc_diff['count_old']>threshold)]\\\n",
    "                                .sort_values(by='count_old',ascending=True)\\\n",
    "                                .plot(x=granularity+'_old', y='count_old', kind='barh', figsize=(8,15), \n",
    "                                        title = '{}s in previous version but not in current version'.format(granularity))"
   ]
  },
  {
   "cell_type": "code",
   "execution_count": null,
   "metadata": {},
   "outputs": [],
   "source": [
    "plt.subplots_adjust(wspace=1)\n",
    "\n",
    "plt.rc('xtick', labelsize=12)\n",
    "plt.rc('ytick', labelsize=12)\n",
    "plt.rc('axes', titlesize=18)\n",
    "plt.rc('axes', labelsize=15)\n",
    "\n",
    "granularity = 'facsubgrp'\n",
    "plt.subplot(1, 3, 1)\n",
    "if len(qc_diff[~qc_diff[granularity].isin(qc_diff[granularity+'_old'].values)]) == 0:\n",
    "    print('No new {}'.format(granularity))\n",
    "else:\n",
    "    qc_diff[~qc_diff[granularity].isin(qc_diff[granularity+'_old'].values)]\\\n",
    "                                    .groupby(granularity).sum()['count_new']\\\n",
    "                                    .sort_values(ascending=True)\\\n",
    "                                    .plot(x=granularity, y='count_new', kind='barh', figsize=(15,5), \n",
    "                                            title = 'Number of records \\n in new {}'.format(granularity))\n",
    "granularity = 'facgroup'\n",
    "plt.subplot(1, 3, 2)\n",
    "if len(qc_diff[~qc_diff[granularity].isin(qc_diff[granularity+'_old'].values)]) == 0:\n",
    "    print('No new {}'.format(granularity))\n",
    "else:\n",
    "    qc_diff[~qc_diff[granularity].isin(qc_diff[granularity+'_old'].values)]\\\n",
    "                                    .groupby(granularity).sum()['count_new']\\\n",
    "                                    .sort_values(ascending=True)\\\n",
    "                                    .plot(x=granularity, y='count_new', kind='barh', figsize=(15,5), \n",
    "                                            title = 'Number of records \\n in new {}'.format(granularity))\n",
    "\n",
    "granularity = 'facdomain'\n",
    "plt.subplot(1, 3, 3)\n",
    "if len(qc_diff[~qc_diff[granularity].isin(qc_diff[granularity+'_old'].values)]) == 0:\n",
    "    print('No new {}'.format(granularity))\n",
    "else:\n",
    "    qc_diff[~qc_diff[granularity].isin(qc_diff[granularity+'_old'].values)]\\\n",
    "                                    .groupby(granularity).sum()['count_new']\\\n",
    "                                    .sort_values(ascending=True)\\\n",
    "                                    .plot(x=granularity, y='count_new', kind='barh', figsize=(15,5),\n",
    "                                          title = 'Number of records \\n in new {}'.format(granularity))"
   ]
  },
  {
   "cell_type": "code",
   "execution_count": null,
   "metadata": {},
   "outputs": [],
   "source": [
    "plt.subplots_adjust(wspace=1)\n",
    "\n",
    "plt.rc('xtick', labelsize=12)\n",
    "plt.rc('ytick', labelsize=12)\n",
    "plt.rc('axes', titlesize=18)\n",
    "plt.rc('axes', labelsize=12)\n",
    "\n",
    "granularity = 'facsubgrp'\n",
    "plt.subplot(1, 3, 1)\n",
    "if len(qc_diff[~qc_diff[granularity+'_old'].isin(qc_diff[granularity].values)]) == 0:\n",
    "    print('No {} is losing'.format(granularity))\n",
    "else:\n",
    "    qc_diff[~qc_diff[granularity+'_old'].isin(qc_diff[granularity].values)]\\\n",
    "                                    .groupby(granularity+'_old').sum()['count_old']\\\n",
    "                                    .sort_values(ascending=True)\\\n",
    "                                    .plot(x=granularity+'_old', y='count_new', kind='barh', figsize=(15,5), \n",
    "                                            title = '{}s in previous version \\n but not in current version'.format(granularity))\n",
    "granularity = 'facgroup'\n",
    "plt.subplot(1, 3, 2)\n",
    "if len(qc_diff[~qc_diff[granularity+'_old'].isin(qc_diff[granularity].values)]) == 0:\n",
    "    print('No {} is lost'.format(granularity))\n",
    "else:\n",
    "    qc_diff[~qc_diff[granularity+'_old'].isin(qc_diff[granularity].values)]\\\n",
    "                                    .groupby(granularity+'_old').sum()['count_old']\\\n",
    "                                    .sort_values(ascending=True)\\\n",
    "                                    .plot(x=granularity, y='count_new', kind='barh', figsize=(15,5), \n",
    "                                            title = '{}s in previous version \\n but not in current version'.format(granularity))\n",
    "\n",
    "granularity = 'facdomain'\n",
    "plt.subplot(1, 3, 3)\n",
    "if len(qc_diff[~qc_diff[granularity+'_old'].isin(qc_diff[granularity].values)]) == 0:\n",
    "    print('No {} is lost'.format(granularity))\n",
    "else:\n",
    "    qc_diff[~qc_diff[granularity+'_old'].isin(qc_diff[granularity].values)]\\\n",
    "                                    .groupby(granularity+'_old').sum()['count_old']\\\n",
    "                                    .sort_values(ascending=True)\\\n",
    "                                    .plot(x=granularity, y='count_old', kind='barh', figsize=(15,5),\n",
    "                                          title = '{}s in previous version \\n but not in current version'.format(granularity))"
   ]
  }
 ],
 "metadata": {
  "kernelspec": {
   "display_name": "Python 3",
   "language": "python",
   "name": "python3"
  },
  "language_info": {
   "codemirror_mode": {
    "name": "ipython",
    "version": 3
   },
   "file_extension": ".py",
   "mimetype": "text/x-python",
   "name": "python",
   "nbconvert_exporter": "python",
   "pygments_lexer": "ipython3",
   "version": "3.7.3"
  }
 },
 "nbformat": 4,
 "nbformat_minor": 4
}
